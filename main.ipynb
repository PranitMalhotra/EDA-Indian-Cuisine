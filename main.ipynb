{
 "cells": [
  {
   "cell_type": "markdown",
   "metadata": {},
   "source": [
    "# **Exploratory Data Analysis on Indian Cuisine**"
   ]
  },
  {
   "cell_type": "markdown",
   "metadata": {},
   "source": [
    "## Objective\n",
    "\n",
    "The project aims to conduct a comprehensive exploratory data analysis on Indian cuisine to uncover insights into cooking durations, ingredient compositions, and regional variations."
   ]
  },
  {
   "cell_type": "code",
   "execution_count": 31,
   "metadata": {
    "vscode": {
     "languageId": "r"
    }
   },
   "outputs": [],
   "source": [
    "library(tidyverse)\n",
    "library(data.table)\n",
    "library(wordcloud)"
   ]
  },
  {
   "cell_type": "markdown",
   "metadata": {},
   "source": [
    "## 1. Data Collection\n",
    "This dataset has been downloaded from [Kaggle](https://www.kaggle.com/datasets/nehaprabhavalkar/indian-food-101/data)."
   ]
  },
  {
   "cell_type": "code",
   "execution_count": 32,
   "metadata": {
    "vscode": {
     "languageId": "r"
    }
   },
   "outputs": [
    {
     "data": {
      "text/html": [
       "<table class=\"dataframe\">\n",
       "<caption>A data.table: 6 × 9</caption>\n",
       "<thead>\n",
       "\t<tr><th scope=col>name</th><th scope=col>ingredients</th><th scope=col>diet</th><th scope=col>prep_time</th><th scope=col>cook_time</th><th scope=col>flavor_profile</th><th scope=col>course</th><th scope=col>state</th><th scope=col>region</th></tr>\n",
       "\t<tr><th scope=col>&lt;fct&gt;</th><th scope=col>&lt;fct&gt;</th><th scope=col>&lt;fct&gt;</th><th scope=col>&lt;int&gt;</th><th scope=col>&lt;int&gt;</th><th scope=col>&lt;fct&gt;</th><th scope=col>&lt;fct&gt;</th><th scope=col>&lt;fct&gt;</th><th scope=col>&lt;fct&gt;</th></tr>\n",
       "</thead>\n",
       "<tbody>\n",
       "\t<tr><td>Balu shahi    </td><td>Maida flour, yogurt, oil, sugar                                                               </td><td>vegetarian</td><td>45</td><td>25</td><td>sweet</td><td>dessert</td><td>West Bengal</td><td>East </td></tr>\n",
       "\t<tr><td>Boondi        </td><td>Gram flour, ghee, sugar                                                                       </td><td>vegetarian</td><td>80</td><td>30</td><td>sweet</td><td>dessert</td><td>Rajasthan  </td><td>West </td></tr>\n",
       "\t<tr><td>Gajar ka halwa</td><td>Carrots, milk, sugar, ghee, cashews, raisins                                                  </td><td>vegetarian</td><td>15</td><td>60</td><td>sweet</td><td>dessert</td><td>Punjab     </td><td>North</td></tr>\n",
       "\t<tr><td>Ghevar        </td><td>Flour, ghee, kewra, milk, clarified butter, sugar, almonds, pistachio, saffron, green cardamom</td><td>vegetarian</td><td>15</td><td>30</td><td>sweet</td><td>dessert</td><td>Rajasthan  </td><td>West </td></tr>\n",
       "\t<tr><td>Gulab jamun   </td><td>Milk powder, plain flour, baking powder, ghee, milk, sugar, water, rose water                 </td><td>vegetarian</td><td>15</td><td>40</td><td>sweet</td><td>dessert</td><td>West Bengal</td><td>East </td></tr>\n",
       "\t<tr><td>Imarti        </td><td>Sugar syrup, lentil flour                                                                     </td><td>vegetarian</td><td>10</td><td>50</td><td>sweet</td><td>dessert</td><td>West Bengal</td><td>East </td></tr>\n",
       "</tbody>\n",
       "</table>\n"
      ],
      "text/latex": [
       "A data.table: 6 × 9\n",
       "\\begin{tabular}{lllllllll}\n",
       " name & ingredients & diet & prep\\_time & cook\\_time & flavor\\_profile & course & state & region\\\\\n",
       " <fct> & <fct> & <fct> & <int> & <int> & <fct> & <fct> & <fct> & <fct>\\\\\n",
       "\\hline\n",
       "\t Balu shahi     & Maida flour, yogurt, oil, sugar                                                                & vegetarian & 45 & 25 & sweet & dessert & West Bengal & East \\\\\n",
       "\t Boondi         & Gram flour, ghee, sugar                                                                        & vegetarian & 80 & 30 & sweet & dessert & Rajasthan   & West \\\\\n",
       "\t Gajar ka halwa & Carrots, milk, sugar, ghee, cashews, raisins                                                   & vegetarian & 15 & 60 & sweet & dessert & Punjab      & North\\\\\n",
       "\t Ghevar         & Flour, ghee, kewra, milk, clarified butter, sugar, almonds, pistachio, saffron, green cardamom & vegetarian & 15 & 30 & sweet & dessert & Rajasthan   & West \\\\\n",
       "\t Gulab jamun    & Milk powder, plain flour, baking powder, ghee, milk, sugar, water, rose water                  & vegetarian & 15 & 40 & sweet & dessert & West Bengal & East \\\\\n",
       "\t Imarti         & Sugar syrup, lentil flour                                                                      & vegetarian & 10 & 50 & sweet & dessert & West Bengal & East \\\\\n",
       "\\end{tabular}\n"
      ],
      "text/markdown": [
       "\n",
       "A data.table: 6 × 9\n",
       "\n",
       "| name &lt;fct&gt; | ingredients &lt;fct&gt; | diet &lt;fct&gt; | prep_time &lt;int&gt; | cook_time &lt;int&gt; | flavor_profile &lt;fct&gt; | course &lt;fct&gt; | state &lt;fct&gt; | region &lt;fct&gt; |\n",
       "|---|---|---|---|---|---|---|---|---|\n",
       "| Balu shahi     | Maida flour, yogurt, oil, sugar                                                                | vegetarian | 45 | 25 | sweet | dessert | West Bengal | East  |\n",
       "| Boondi         | Gram flour, ghee, sugar                                                                        | vegetarian | 80 | 30 | sweet | dessert | Rajasthan   | West  |\n",
       "| Gajar ka halwa | Carrots, milk, sugar, ghee, cashews, raisins                                                   | vegetarian | 15 | 60 | sweet | dessert | Punjab      | North |\n",
       "| Ghevar         | Flour, ghee, kewra, milk, clarified butter, sugar, almonds, pistachio, saffron, green cardamom | vegetarian | 15 | 30 | sweet | dessert | Rajasthan   | West  |\n",
       "| Gulab jamun    | Milk powder, plain flour, baking powder, ghee, milk, sugar, water, rose water                  | vegetarian | 15 | 40 | sweet | dessert | West Bengal | East  |\n",
       "| Imarti         | Sugar syrup, lentil flour                                                                      | vegetarian | 10 | 50 | sweet | dessert | West Bengal | East  |\n",
       "\n"
      ],
      "text/plain": [
       "  name          \n",
       "1 Balu shahi    \n",
       "2 Boondi        \n",
       "3 Gajar ka halwa\n",
       "4 Ghevar        \n",
       "5 Gulab jamun   \n",
       "6 Imarti        \n",
       "  ingredients                                                                                   \n",
       "1 Maida flour, yogurt, oil, sugar                                                               \n",
       "2 Gram flour, ghee, sugar                                                                       \n",
       "3 Carrots, milk, sugar, ghee, cashews, raisins                                                  \n",
       "4 Flour, ghee, kewra, milk, clarified butter, sugar, almonds, pistachio, saffron, green cardamom\n",
       "5 Milk powder, plain flour, baking powder, ghee, milk, sugar, water, rose water                 \n",
       "6 Sugar syrup, lentil flour                                                                     \n",
       "  diet       prep_time cook_time flavor_profile course  state       region\n",
       "1 vegetarian 45        25        sweet          dessert West Bengal East  \n",
       "2 vegetarian 80        30        sweet          dessert Rajasthan   West  \n",
       "3 vegetarian 15        60        sweet          dessert Punjab      North \n",
       "4 vegetarian 15        30        sweet          dessert Rajasthan   West  \n",
       "5 vegetarian 15        40        sweet          dessert West Bengal East  \n",
       "6 vegetarian 10        50        sweet          dessert West Bengal East  "
      ]
     },
     "metadata": {},
     "output_type": "display_data"
    }
   ],
   "source": [
    "food_data = fread('datasets/indian_food.csv', na.strings = \"-1\", stringsAsFactors=TRUE)\n",
    "head(food_data)"
   ]
  },
  {
   "cell_type": "markdown",
   "metadata": {},
   "source": [
    "### 1.1 Structure and Summary of the DataFrame."
   ]
  },
  {
   "cell_type": "code",
   "execution_count": 33,
   "metadata": {
    "vscode": {
     "languageId": "r"
    }
   },
   "outputs": [
    {
     "name": "stdout",
     "output_type": "stream",
     "text": [
      "Classes 'data.table' and 'data.frame':\t255 obs. of  9 variables:\n",
      " $ name          : Factor w/ 255 levels \"Adhirasam\",\"Aloo gobi\",..: 14 28 72 77 81 88 89 97 99 112 ...\n",
      " $ ingredients   : Factor w/ 252 levels \"Aloo, tomatoes, mustard oil, bay leaf, cinnamon stick\",..: 123 101 36 96 130 213 124 37 132 134 ...\n",
      " $ diet          : Factor w/ 2 levels \"non vegetarian\",..: 2 2 2 2 2 2 2 2 2 2 ...\n",
      " $ prep_time     : int  45 80 15 15 15 10 10 10 20 10 ...\n",
      " $ cook_time     : int  25 30 60 30 40 50 50 20 30 40 ...\n",
      " $ flavor_profile: Factor w/ 4 levels \"bitter\",\"sour\",..: 4 4 4 4 4 4 4 4 4 4 ...\n",
      " $ course        : Factor w/ 4 levels \"dessert\",\"main course\",..: 1 1 1 1 1 1 1 1 1 1 ...\n",
      " $ state         : Factor w/ 24 levels \"Andhra Pradesh\",..: 24 18 17 18 24 24 22 NA 24 NA ...\n",
      " $ region        : Factor w/ 7 levels \"\",\"Central\",\"East\",..: 3 7 4 7 3 3 4 NA 3 NA ...\n",
      " - attr(*, \".internal.selfref\")=<externalptr> \n"
     ]
    }
   ],
   "source": [
    "str(food_data)"
   ]
  },
  {
   "cell_type": "code",
   "execution_count": 34,
   "metadata": {
    "vscode": {
     "languageId": "r"
    }
   },
   "outputs": [
    {
     "data": {
      "text/plain": [
       "                name    \n",
       " Adhirasam        :  1  \n",
       " Aloo gobi        :  1  \n",
       " Aloo matar       :  1  \n",
       " Aloo methi       :  1  \n",
       " Aloo shimla mirch:  1  \n",
       " Aloo tikki       :  1  \n",
       " (Other)          :249  \n",
       "                                                                    ingredients \n",
       " Arbi ke patte, sesame seeds, gur, bengal gram flour, imli                :  2  \n",
       " Chhena, sugar, ghee                                                      :  2  \n",
       " Gram flour, ghee, sugar                                                  :  2  \n",
       " Aloo, tomatoes, mustard oil, bay leaf, cinnamon stick                    :  1  \n",
       " Aloo, urad dal, mustard, ginger, curry leaves                            :  1  \n",
       " Amaranth leaves, split urad dal, mustard seeds, grated coconut, red chili:  1  \n",
       " (Other)                                                                  :246  \n",
       "             diet       prep_time        cook_time      flavor_profile\n",
       " non vegetarian: 29   Min.   :  5.00   Min.   :  2.00   bitter:  4    \n",
       " vegetarian    :226   1st Qu.: 10.00   1st Qu.: 20.00   sour  :  1    \n",
       "                      Median : 10.00   Median : 30.00   spicy :133    \n",
       "                      Mean   : 35.39   Mean   : 38.91   sweet : 88    \n",
       "                      3rd Qu.: 20.00   3rd Qu.: 45.00   NA's  : 29    \n",
       "                      Max.   :500.00   Max.   :720.00                 \n",
       "                      NA's   :30       NA's   :28                     \n",
       "         course            state           region  \n",
       " dessert    : 85   Gujarat    :35   West      :74  \n",
       " main course:129   Punjab     :32   South     :59  \n",
       " snack      : 39   Maharashtra:30   North     :49  \n",
       " starter    :  2   West Bengal:24   East      :31  \n",
       "                   Assam      :21   North East:25  \n",
       "                   (Other)    :89   (Other)   : 4  \n",
       "                   NA's       :24   NA's      :13  "
      ]
     },
     "metadata": {},
     "output_type": "display_data"
    }
   ],
   "source": [
    "summary(food_data)"
   ]
  },
  {
   "cell_type": "markdown",
   "metadata": {},
   "source": [
    "### 1.2 Initial Observations\n",
    "\n",
    "- The dataset includes both vegetarian and non-vegetarian dishes, with a **larger proportion being vegetarian**.\n",
    "- Preparation and cooking times span a wide range, with some dishes requiring minimal time and others longer durations.\n",
    "- Flavor profiles of the dishes vary, with **spicy and sweet flavors being the most common**.\n",
    "- Dishes are categorized into different courses such as dessert, main course, snack, and starter.\n",
    "- The dataset covers dishes from various Indian states and regions, with some states and regions being more represented than others."
   ]
  },
  {
   "cell_type": "markdown",
   "metadata": {},
   "source": [
    "## 2. Data Preprocessing"
   ]
  },
  {
   "cell_type": "markdown",
   "metadata": {},
   "source": [
    "### 2.1 Creating List of Ingredients\n",
    "\n",
    "The data presents the ingredients listed in a single line, separated by commas. To made the process of analysis easier, the functions `get_ingredient_list` and `get_top_ingredient_list` parse those lines and extract the ingredients into a **structured list format**."
   ]
  },
  {
   "cell_type": "code",
   "execution_count": 35,
   "metadata": {
    "vscode": {
     "languageId": "r"
    }
   },
   "outputs": [],
   "source": [
    "get_ingredient_list <- function(x){\n",
    "    list_ingre <- unlist(lapply(as.character(x), strsplit, ','))\n",
    "    list_ingre <- tolower(list_ingre)\n",
    "    list_ingre <- as.data.frame(table(list_ingre))\n",
    "    list_ingre <- arrange(list_ingre,desc(Freq))\n",
    "    return(list_ingre)\n",
    "}\n",
    "\n",
    "get_top_ingredient_list <- function(x){\n",
    "    list_ingre <- get_ingredient_list(x)\n",
    "    list_ingre <- list_ingre[1:20,]\n",
    "}\n",
    "\n",
    "all_ingredients <- get_top_ingredient_list(food_data$ingredients)"
   ]
  },
  {
   "cell_type": "markdown",
   "metadata": {},
   "source": [
    "## 3. Data Exploration"
   ]
  },
  {
   "cell_type": "markdown",
   "metadata": {},
   "source": [
    "### 3.1 Ingredient WordCloud"
   ]
  },
  {
   "cell_type": "markdown",
   "metadata": {},
   "source": [
    "WordClouds are used for data exploration because they give instantaneous insights into the most prominent terms, enabling faster comprehension of themes and trends within the dataset.\n",
    "\n",
    "The code below generates a word cloud where the size and color of each word reflect the frequency of ingredients, presenting a visual depiction of the most prevalent ingredients in the dataset."
   ]
  },
  {
   "cell_type": "code",
   "execution_count": 36,
   "metadata": {
    "vscode": {
     "languageId": "r"
    }
   },
   "outputs": [
    {
     "data": {
      "image/png": "[encoded data removed]",
      "text/plain": [
       "plot without title"
      ]
     },
     "metadata": {
      "image/png": {
       "height": 540,
       "width": 540
      }
     },
     "output_type": "display_data"
    }
   ],
   "source": [
    "word <- get_ingredient_list(food_data$ingredients)$list_ingre\n",
    "word <- paste(word, collapse = \" \")\n",
    "res <- unlist(strsplit(word,\" \"))\n",
    "res <- res[res != \"\"]\n",
    "res <- table(res)\n",
    "word <- names(res)\n",
    "\n",
    "freq_table <- sapply(res, function(x) round(x/sum(res), 5))\n",
    "\n",
    "options(repr.plot.width=9, repr.plot.height=9)\n",
    "wordcloud(word, freq_table, scale=c(4,.5), \n",
    "           random.order=TRUE,rot.per=.5, col=terrain.colors(length(res) , alpha=1))"
   ]
  },
  {
   "cell_type": "markdown",
   "metadata": {},
   "source": [
    "The WordCloud offers a overall glimpse into the ingredients commonly used in Indian cuisine. Notably, **flour**, **powder**, **rice**, **masala**, **coconut**, and **dal** emerge prominently."
   ]
  },
  {
   "cell_type": "markdown",
   "metadata": {},
   "source": [
    "### 3.2 Cooking and Preparation Time"
   ]
  },
  {
   "cell_type": "markdown",
   "metadata": {},
   "source": [
    "Histogram representation of `prep_time`."
   ]
  },
  {
   "cell_type": "code",
   "execution_count": 37,
   "metadata": {
    "vscode": {
     "languageId": "r"
    }
   },
   "outputs": [
    {
     "name": "stderr",
     "output_type": "stream",
     "text": [
      "Warning message:\n",
      "\"\u001b[1m\u001b[22mRemoved 30 rows containing non-finite outside the scale range (`stat_bin()`).\"\n"
     ]
    },
    {
     "data": {
      "text/plain": [
       "   Min. 1st Qu.  Median    Mean 3rd Qu.    Max.    NA's \n",
       "   5.00   10.00   10.00   35.39   20.00  500.00      30 "
      ]
     },
     "metadata": {},
     "output_type": "display_data"
    },
    {
     "data": {
      "image/png": "[encoded data removed]",
      "text/plain": [
       "plot without title"
      ]
     },
     "metadata": {
      "image/png": {
       "height": 300,
       "width": 540
      }
     },
     "output_type": "display_data"
    }
   ],
   "source": [
    "options(repr.plot.width=9, repr.plot.height=5)\n",
    "ggplot(food_data, aes(x=prep_time))+geom_histogram(binwidth=5, fill=\"#D8BFD8\")+theme_classic()\n",
    "summary(food_data$prep_time)"
   ]
  },
  {
   "cell_type": "code",
   "execution_count": 38,
   "metadata": {
    "vscode": {
     "languageId": "r"
    }
   },
   "outputs": [
    {
     "data": {
      "text/html": [
       "<table class=\"dataframe\">\n",
       "<caption>A data.table: 6 × 9</caption>\n",
       "<thead>\n",
       "\t<tr><th scope=col>name</th><th scope=col>ingredients</th><th scope=col>diet</th><th scope=col>prep_time</th><th scope=col>cook_time</th><th scope=col>flavor_profile</th><th scope=col>course</th><th scope=col>state</th><th scope=col>region</th></tr>\n",
       "\t<tr><th scope=col>&lt;fct&gt;</th><th scope=col>&lt;fct&gt;</th><th scope=col>&lt;fct&gt;</th><th scope=col>&lt;int&gt;</th><th scope=col>&lt;int&gt;</th><th scope=col>&lt;fct&gt;</th><th scope=col>&lt;fct&gt;</th><th scope=col>&lt;fct&gt;</th><th scope=col>&lt;fct&gt;</th></tr>\n",
       "</thead>\n",
       "<tbody>\n",
       "\t<tr><td>Misti doi  </td><td>Milk, jaggery                                             </td><td>vegetarian</td><td>480</td><td> 30</td><td>sweet</td><td>dessert    </td><td>West Bengal</td><td>East </td></tr>\n",
       "\t<tr><td>Pindi chana</td><td>Fennel, tea bags, tomato, kasuri methi, cinnamon          </td><td>vegetarian</td><td>500</td><td>120</td><td>spicy</td><td>main course</td><td>Punjab     </td><td>North</td></tr>\n",
       "\t<tr><td>Dosa       </td><td>Chana dal, urad dal, whole urad dal, blend rice, rock salt</td><td>vegetarian</td><td>360</td><td> 90</td><td>spicy</td><td>snack      </td><td>NA         </td><td>South</td></tr>\n",
       "\t<tr><td>Idli       </td><td>Split urad dal, urad dal, idli rice, thick poha, rock salt</td><td>vegetarian</td><td>360</td><td> 90</td><td>spicy</td><td>snack      </td><td>NA         </td><td>South</td></tr>\n",
       "\t<tr><td>Masala Dosa</td><td>Chana dal, urad dal, potatoes, idli rice, thick poha      </td><td>vegetarian</td><td>360</td><td> 90</td><td>spicy</td><td>snack      </td><td>NA         </td><td>South</td></tr>\n",
       "\t<tr><td>Puttu      </td><td>Brown rice flour, sugar, grated coconut                   </td><td>vegetarian</td><td>495</td><td> 40</td><td>NA   </td><td>main course</td><td>Kerala     </td><td>South</td></tr>\n",
       "</tbody>\n",
       "</table>\n"
      ],
      "text/latex": [
       "A data.table: 6 × 9\n",
       "\\begin{tabular}{lllllllll}\n",
       " name & ingredients & diet & prep\\_time & cook\\_time & flavor\\_profile & course & state & region\\\\\n",
       " <fct> & <fct> & <fct> & <int> & <int> & <fct> & <fct> & <fct> & <fct>\\\\\n",
       "\\hline\n",
       "\t Misti doi   & Milk, jaggery                                              & vegetarian & 480 &  30 & sweet & dessert     & West Bengal & East \\\\\n",
       "\t Pindi chana & Fennel, tea bags, tomato, kasuri methi, cinnamon           & vegetarian & 500 & 120 & spicy & main course & Punjab      & North\\\\\n",
       "\t Dosa        & Chana dal, urad dal, whole urad dal, blend rice, rock salt & vegetarian & 360 &  90 & spicy & snack       & NA          & South\\\\\n",
       "\t Idli        & Split urad dal, urad dal, idli rice, thick poha, rock salt & vegetarian & 360 &  90 & spicy & snack       & NA          & South\\\\\n",
       "\t Masala Dosa & Chana dal, urad dal, potatoes, idli rice, thick poha       & vegetarian & 360 &  90 & spicy & snack       & NA          & South\\\\\n",
       "\t Puttu       & Brown rice flour, sugar, grated coconut                    & vegetarian & 495 &  40 & NA    & main course & Kerala      & South\\\\\n",
       "\\end{tabular}\n"
      ],
      "text/markdown": [
       "\n",
       "A data.table: 6 × 9\n",
       "\n",
       "| name &lt;fct&gt; | ingredients &lt;fct&gt; | diet &lt;fct&gt; | prep_time &lt;int&gt; | cook_time &lt;int&gt; | flavor_profile &lt;fct&gt; | course &lt;fct&gt; | state &lt;fct&gt; | region &lt;fct&gt; |\n",
       "|---|---|---|---|---|---|---|---|---|\n",
       "| Misti doi   | Milk, jaggery                                              | vegetarian | 480 |  30 | sweet | dessert     | West Bengal | East  |\n",
       "| Pindi chana | Fennel, tea bags, tomato, kasuri methi, cinnamon           | vegetarian | 500 | 120 | spicy | main course | Punjab      | North |\n",
       "| Dosa        | Chana dal, urad dal, whole urad dal, blend rice, rock salt | vegetarian | 360 |  90 | spicy | snack       | NA          | South |\n",
       "| Idli        | Split urad dal, urad dal, idli rice, thick poha, rock salt | vegetarian | 360 |  90 | spicy | snack       | NA          | South |\n",
       "| Masala Dosa | Chana dal, urad dal, potatoes, idli rice, thick poha       | vegetarian | 360 |  90 | spicy | snack       | NA          | South |\n",
       "| Puttu       | Brown rice flour, sugar, grated coconut                    | vegetarian | 495 |  40 | NA    | main course | Kerala      | South |\n",
       "\n"
      ],
      "text/plain": [
       "  name        ingredients                                               \n",
       "1 Misti doi   Milk, jaggery                                             \n",
       "2 Pindi chana Fennel, tea bags, tomato, kasuri methi, cinnamon          \n",
       "3 Dosa        Chana dal, urad dal, whole urad dal, blend rice, rock salt\n",
       "4 Idli        Split urad dal, urad dal, idli rice, thick poha, rock salt\n",
       "5 Masala Dosa Chana dal, urad dal, potatoes, idli rice, thick poha      \n",
       "6 Puttu       Brown rice flour, sugar, grated coconut                   \n",
       "  diet       prep_time cook_time flavor_profile course      state       region\n",
       "1 vegetarian 480        30       sweet          dessert     West Bengal East  \n",
       "2 vegetarian 500       120       spicy          main course Punjab      North \n",
       "3 vegetarian 360        90       spicy          snack       NA          South \n",
       "4 vegetarian 360        90       spicy          snack       NA          South \n",
       "5 vegetarian 360        90       spicy          snack       NA          South \n",
       "6 vegetarian 495        40       NA             main course Kerala      South "
      ]
     },
     "metadata": {},
     "output_type": "display_data"
    }
   ],
   "source": [
    "# a look at the dishes that have prep time above 300\n",
    "food_data[prep_time>300]"
   ]
  },
  {
   "cell_type": "markdown",
   "metadata": {},
   "source": [
    "Histogram representation of `cook_time`."
   ]
  },
  {
   "cell_type": "code",
   "execution_count": 39,
   "metadata": {
    "vscode": {
     "languageId": "r"
    }
   },
   "outputs": [
    {
     "name": "stderr",
     "output_type": "stream",
     "text": [
      "Warning message:\n",
      "\"\u001b[1m\u001b[22mRemoved 28 rows containing non-finite outside the scale range (`stat_bin()`).\"\n"
     ]
    },
    {
     "data": {
      "text/plain": [
       "   Min. 1st Qu.  Median    Mean 3rd Qu.    Max.    NA's \n",
       "   2.00   20.00   30.00   38.91   45.00  720.00      28 "
      ]
     },
     "metadata": {},
     "output_type": "display_data"
    },
    {
     "data": {
      "image/png": "[encoded data removed]",
      "text/plain": [
       "plot without title"
      ]
     },
     "metadata": {
      "image/png": {
       "height": 300,
       "width": 540
      }
     },
     "output_type": "display_data"
    }
   ],
   "source": [
    "ggplot(food_data, aes(x=cook_time))+geom_histogram(binwidth=5, fill=\"#D8BFD8\")+theme_classic()\n",
    "summary(food_data$cook_time)"
   ]
  },
  {
   "cell_type": "code",
   "execution_count": 40,
   "metadata": {
    "vscode": {
     "languageId": "r"
    }
   },
   "outputs": [
    {
     "data": {
      "text/html": [
       "<table class=\"dataframe\">\n",
       "<caption>A data.table: 1 × 9</caption>\n",
       "<thead>\n",
       "\t<tr><th scope=col>name</th><th scope=col>ingredients</th><th scope=col>diet</th><th scope=col>prep_time</th><th scope=col>cook_time</th><th scope=col>flavor_profile</th><th scope=col>course</th><th scope=col>state</th><th scope=col>region</th></tr>\n",
       "\t<tr><th scope=col>&lt;fct&gt;</th><th scope=col>&lt;fct&gt;</th><th scope=col>&lt;fct&gt;</th><th scope=col>&lt;int&gt;</th><th scope=col>&lt;int&gt;</th><th scope=col>&lt;fct&gt;</th><th scope=col>&lt;fct&gt;</th><th scope=col>&lt;fct&gt;</th><th scope=col>&lt;fct&gt;</th></tr>\n",
       "</thead>\n",
       "<tbody>\n",
       "\t<tr><td>Shrikhand</td><td>Curd, sugar, saffron, cardamom</td><td>vegetarian</td><td>10</td><td>720</td><td>sweet</td><td>dessert</td><td>Maharashtra</td><td>West</td></tr>\n",
       "</tbody>\n",
       "</table>\n"
      ],
      "text/latex": [
       "A data.table: 1 × 9\n",
       "\\begin{tabular}{lllllllll}\n",
       " name & ingredients & diet & prep\\_time & cook\\_time & flavor\\_profile & course & state & region\\\\\n",
       " <fct> & <fct> & <fct> & <int> & <int> & <fct> & <fct> & <fct> & <fct>\\\\\n",
       "\\hline\n",
       "\t Shrikhand & Curd, sugar, saffron, cardamom & vegetarian & 10 & 720 & sweet & dessert & Maharashtra & West\\\\\n",
       "\\end{tabular}\n"
      ],
      "text/markdown": [
       "\n",
       "A data.table: 1 × 9\n",
       "\n",
       "| name &lt;fct&gt; | ingredients &lt;fct&gt; | diet &lt;fct&gt; | prep_time &lt;int&gt; | cook_time &lt;int&gt; | flavor_profile &lt;fct&gt; | course &lt;fct&gt; | state &lt;fct&gt; | region &lt;fct&gt; |\n",
       "|---|---|---|---|---|---|---|---|---|\n",
       "| Shrikhand | Curd, sugar, saffron, cardamom | vegetarian | 10 | 720 | sweet | dessert | Maharashtra | West |\n",
       "\n"
      ],
      "text/plain": [
       "  name      ingredients                    diet       prep_time cook_time\n",
       "1 Shrikhand Curd, sugar, saffron, cardamom vegetarian 10        720      \n",
       "  flavor_profile course  state       region\n",
       "1 sweet          dessert Maharashtra West  "
      ]
     },
     "metadata": {},
     "output_type": "display_data"
    }
   ],
   "source": [
    "# a look at the dishes that have cook time above 600\n",
    "food_data[cook_time>600]"
   ]
  },
  {
   "cell_type": "markdown",
   "metadata": {},
   "source": [
    "Among the dataset, **75% of dishes demand less than 20 minutes for preparation** and **less than 45 minutes for cooking**. \n",
    "\n",
    "However, upon closer inspection of outlier dishes exhibiting exceptionally high preparation or cooking times, a pattern emerges. Dishes with prolonged preparation times also necessitate extended cooking durations, while those with notably lengthy cooking times exhibit surprisingly brief preparation requirements."
   ]
  },
  {
   "cell_type": "markdown",
   "metadata": {
    "vscode": {
     "languageId": "r"
    }
   },
   "source": [
    "### 3.3 Ingredients"
   ]
  },
  {
   "cell_type": "code",
   "execution_count": 41,
   "metadata": {
    "vscode": {
     "languageId": "r"
    }
   },
   "outputs": [
    {
     "data": {
      "image/png": "[encoded data removed]",
      "text/plain": [
       "plot without title"
      ]
     },
     "metadata": {
      "image/png": {
       "height": 300,
       "width": 540
      }
     },
     "output_type": "display_data"
    }
   ],
   "source": [
    "#plotting the 20 most common ingredients used in all dishes\n",
    "all_ingredients %>%\n",
    "    mutate(list_ingre = fct_reorder(list_ingre, Freq)) %>%\n",
    "    ggplot(aes(x=list_ingre, y=Freq))+geom_col(fill=\"#f68060\")+coord_flip()+ theme_classic()"
   ]
  },
  {
   "cell_type": "markdown",
   "metadata": {},
   "source": [
    "Remarkably, despite the presence of around 50 more spicy dishes than sweet ones, the **most commonly utilized ingredient is sugar**. Following closely behind are ginger and garam masala, renowned spice components, ranking second and third, respectively."
   ]
  },
  {
   "cell_type": "code",
   "execution_count": 42,
   "metadata": {
    "vscode": {
     "languageId": "r"
    }
   },
   "outputs": [
    {
     "data": {
      "image/png": "[encoded data removed]",
      "text/plain": [
       "plot without title"
      ]
     },
     "metadata": {
      "image/png": {
       "height": 300,
       "width": 540
      }
     },
     "output_type": "display_data"
    }
   ],
   "source": [
    "plot <- names(sort(desc(table(food_data$state)))[1:10])\n",
    "food_data %>%\n",
    "filter(state %in% plot) %>%\n",
    "ggplot(aes(x=state))+\n",
    "    geom_bar(aes(fill=flavor_profile))+\n",
    "    theme(axis.text.x = element_text(angle=45, hjust=1, vjust=1)) +theme_classic()"
   ]
  },
  {
   "cell_type": "markdown",
   "metadata": {},
   "source": [
    "Ten states in India collectively account for 83% of the total number of dishes. Overall, several noteworthy features emerge from this analysis.\n",
    "\n",
    "- Only two states, West Bengal and Andhra Pradesh, exhibit a notably higher number of sweet dishes compared to spicy ones.\n",
    "- Gujarat stands out as the only state featuring dishes with all four flavor profiles. \n",
    "- Punjab follows closely, with dishes spanning three flavor types, making it one of the states with the most varied cuisine offerings."
   ]
  },
  {
   "cell_type": "markdown",
   "metadata": {},
   "source": [
    "## 4. Feature Engineering"
   ]
  },
  {
   "cell_type": "markdown",
   "metadata": {},
   "source": [
    "To delve deeper into their relationship, we need to normalize the time data. This step is essential as `cook_time` does not follow the same distribution as `prep_time`."
   ]
  },
  {
   "cell_type": "code",
   "execution_count": 43,
   "metadata": {
    "vscode": {
     "languageId": "r"
    }
   },
   "outputs": [
    {
     "name": "stderr",
     "output_type": "stream",
     "text": [
      "\u001b[1m\u001b[22m`geom_smooth()` using method = 'loess' and formula = 'y ~ x'\n",
      "Warning message:\n",
      "\"\u001b[1m\u001b[22mRemoved 2 rows containing non-finite outside the scale range (`stat_smooth()`).\"\n",
      "Warning message:\n",
      "\"\u001b[1m\u001b[22mRemoved 2 rows containing missing values or values outside the scale range\n",
      "(`geom_point()`).\"\n"
     ]
    },
    {
     "data": {
      "image/png": "[encoded data removed]",
      "text/plain": [
       "plot without title"
      ]
     },
     "metadata": {
      "image/png": {
       "height": 300,
       "width": 540
      }
     },
     "output_type": "display_data"
    }
   ],
   "source": [
    "#normalize the cook and prep time \n",
    "normalize <- function(vector){\n",
    "    minimum <- min(vector, na.rm=TRUE)\n",
    "    maximum <- max(vector, na.rm=TRUE)\n",
    "    vector <- sapply(vector, function(x) round((x - minimum)/(maximum - minimum),2))\n",
    "    return(vector)\n",
    "}\n",
    "\n",
    "food_data$prep_vector <- normalize(food_data$prep_time)\n",
    "food_data$cook_vector <- normalize(food_data$cook_time)\n",
    "\n",
    "ggplot(food_data[cook_vector<0.9], aes(x=cook_vector, y=prep_vector))+geom_jitter(aes(color = course), alpha=0.6)+ geom_smooth(se=FALSE)+theme_classic()"
   ]
  },
  {
   "cell_type": "markdown",
   "metadata": {},
   "source": [
    "Overall, the relationship between `prepr_time` and `cook_time` reveals two overarching patterns. While some dishes exhibit an increase in preparation time as cooking time lengthens, the majority showcase either minimal preparation for slow cooking or fast cooking. Additionally, dessert dishes tend to cluster around longer cooking times compared to main courses, while snacks demonstrate a notable preparation time."
   ]
  },
  {
   "cell_type": "markdown",
   "metadata": {},
   "source": [
    "## 5. Missing Values\n",
    "\n",
    "Within our dataset, certain values are absent, needing further exploration of inter-variable relationships. To optimize our analysis, it's important to mitigate as many missing values as feasible. Consequently, we will use imputation techniques where applicable to fill the data."
   ]
  },
  {
   "cell_type": "code",
   "execution_count": 44,
   "metadata": {
    "vscode": {
     "languageId": "r"
    }
   },
   "outputs": [
    {
     "data": {
      "text/html": [
       "<style>\n",
       ".dl-inline {width: auto; margin:0; padding: 0}\n",
       ".dl-inline>dt, .dl-inline>dd {float: none; width: auto; display: inline-block}\n",
       ".dl-inline>dt::after {content: \":\\0020\"; padding-right: .5ex}\n",
       ".dl-inline>dt:not(:first-of-type) {padding-left: .5ex}\n",
       "</style><dl class=dl-inline><dt>name</dt><dd>0</dd><dt>ingredients</dt><dd>0</dd><dt>diet</dt><dd>0</dd><dt>prep_time</dt><dd>30</dd><dt>cook_time</dt><dd>28</dd><dt>flavor_profile</dt><dd>29</dd><dt>course</dt><dd>0</dd><dt>state</dt><dd>24</dd><dt>region</dt><dd>13</dd></dl>\n"
      ],
      "text/latex": [
       "\\begin{description*}\n",
       "\\item[name] 0\n",
       "\\item[ingredients] 0\n",
       "\\item[diet] 0\n",
       "\\item[prep\\textbackslash{}\\_time] 30\n",
       "\\item[cook\\textbackslash{}\\_time] 28\n",
       "\\item[flavor\\textbackslash{}\\_profile] 29\n",
       "\\item[course] 0\n",
       "\\item[state] 24\n",
       "\\item[region] 13\n",
       "\\end{description*}\n"
      ],
      "text/markdown": [
       "name\n",
       ":   0ingredients\n",
       ":   0diet\n",
       ":   0prep_time\n",
       ":   30cook_time\n",
       ":   28flavor_profile\n",
       ":   29course\n",
       ":   0state\n",
       ":   24region\n",
       ":   13\n",
       "\n"
      ],
      "text/plain": [
       "          name    ingredients           diet      prep_time      cook_time \n",
       "             0              0              0             30             28 \n",
       "flavor_profile         course          state         region \n",
       "            29              0             24             13 "
      ]
     },
     "metadata": {},
     "output_type": "display_data"
    }
   ],
   "source": [
    "food_data <- food_data[,-c(\"prep_vector\", \"cook_vector\")]\n",
    "colSums(is.na(food_data))"
   ]
  },
  {
   "cell_type": "markdown",
   "metadata": {},
   "source": [
    "### 5.1. Imputing Preparation and Cooking Time\n",
    "\n",
    "For imputation, we will categorize dishes based on similar attributes, which are likely to yield comparable approximate preparation times. Subsequently, we will impute missing values with the median preparation time of each respective group. \n",
    "\n",
    "*Given the presence of outlier dishes with notably low cooking or preparation times, resulting in highly skewed distributions, we opt for median imputation over mean imputation for enhanced accuracy.*"
   ]
  },
  {
   "cell_type": "code",
   "execution_count": 45,
   "metadata": {
    "vscode": {
     "languageId": "r"
    }
   },
   "outputs": [
    {
     "name": "stderr",
     "output_type": "stream",
     "text": [
      "Warning message:\n",
      "\"\u001b[1m\u001b[22mRemoved 30 rows containing non-finite outside the scale range\n",
      "(`stat_density()`).\"\n"
     ]
    },
    {
     "data": {
      "image/png": "[encoded data removed]",
      "text/plain": [
       "plot without title"
      ]
     },
     "metadata": {
      "image/png": {
       "height": 300,
       "width": 540
      }
     },
     "output_type": "display_data"
    }
   ],
   "source": [
    "ggplot(data=food_data, aes(x=prep_time, group=course, fill=course)) +\n",
    "    geom_density(adjust=1.5) +\n",
    "    facet_wrap(~course) +\n",
    "    theme(\n",
    "      legend.position=\"none\",\n",
    "      panel.spacing = unit(0.1, \"lines\"),\n",
    "      axis.ticks.x=element_blank()\n",
    "    )"
   ]
  },
  {
   "cell_type": "code",
   "execution_count": 46,
   "metadata": {
    "vscode": {
     "languageId": "r"
    }
   },
   "outputs": [
    {
     "data": {
      "text/html": [
       "<table class=\"dataframe\">\n",
       "<caption>A data.table: 6 × 9</caption>\n",
       "<thead>\n",
       "\t<tr><th scope=col>name</th><th scope=col>ingredients</th><th scope=col>diet</th><th scope=col>prep_time</th><th scope=col>cook_time</th><th scope=col>flavor_profile</th><th scope=col>course</th><th scope=col>state</th><th scope=col>region</th></tr>\n",
       "\t<tr><th scope=col>&lt;fct&gt;</th><th scope=col>&lt;fct&gt;</th><th scope=col>&lt;fct&gt;</th><th scope=col>&lt;int&gt;</th><th scope=col>&lt;int&gt;</th><th scope=col>&lt;fct&gt;</th><th scope=col>&lt;fct&gt;</th><th scope=col>&lt;fct&gt;</th><th scope=col>&lt;fct&gt;</th></tr>\n",
       "</thead>\n",
       "<tbody>\n",
       "\t<tr><td>Sohan papdi   </td><td>Gram flour, ghee, sugar, milk, cardamom                     </td><td>vegetarian    </td><td>NA</td><td>60</td><td>sweet</td><td>dessert    </td><td>Maharashtra</td><td>West      </td></tr>\n",
       "\t<tr><td>Chhena kheeri </td><td>Chhena, sugar, milk                                         </td><td>vegetarian    </td><td>NA</td><td>60</td><td>sweet</td><td>dessert    </td><td>Odisha     </td><td>East      </td></tr>\n",
       "\t<tr><td>Pork Bharta   </td><td>Boiled pork, onions, chillies, ginger and garlic            </td><td>non vegetarian</td><td>NA</td><td>NA</td><td>spicy</td><td>main course</td><td>Tripura    </td><td>North East</td></tr>\n",
       "\t<tr><td>Kaara kozhambu</td><td>Sesame oil, drumstick, tamarind paste, sambar powder, tomato</td><td>vegetarian    </td><td>NA</td><td>NA</td><td>spicy</td><td>main course</td><td>Tamil Nadu </td><td>South     </td></tr>\n",
       "\t<tr><td>Keerai masiyal</td><td>Urad dal, curry leaves, sugar, mustard seeds, spinach       </td><td>vegetarian    </td><td>NA</td><td>NA</td><td>spicy</td><td>main course</td><td>Tamil Nadu </td><td>South     </td></tr>\n",
       "\t<tr><td>Paravannam    </td><td>Raw rice,  jaggery, milk                                    </td><td>vegetarian    </td><td>NA</td><td>NA</td><td>spicy</td><td>main course</td><td>Kerala     </td><td>South     </td></tr>\n",
       "</tbody>\n",
       "</table>\n"
      ],
      "text/latex": [
       "A data.table: 6 × 9\n",
       "\\begin{tabular}{lllllllll}\n",
       " name & ingredients & diet & prep\\_time & cook\\_time & flavor\\_profile & course & state & region\\\\\n",
       " <fct> & <fct> & <fct> & <int> & <int> & <fct> & <fct> & <fct> & <fct>\\\\\n",
       "\\hline\n",
       "\t Sohan papdi    & Gram flour, ghee, sugar, milk, cardamom                      & vegetarian     & NA & 60 & sweet & dessert     & Maharashtra & West      \\\\\n",
       "\t Chhena kheeri  & Chhena, sugar, milk                                          & vegetarian     & NA & 60 & sweet & dessert     & Odisha      & East      \\\\\n",
       "\t Pork Bharta    & Boiled pork, onions, chillies, ginger and garlic             & non vegetarian & NA & NA & spicy & main course & Tripura     & North East\\\\\n",
       "\t Kaara kozhambu & Sesame oil, drumstick, tamarind paste, sambar powder, tomato & vegetarian     & NA & NA & spicy & main course & Tamil Nadu  & South     \\\\\n",
       "\t Keerai masiyal & Urad dal, curry leaves, sugar, mustard seeds, spinach        & vegetarian     & NA & NA & spicy & main course & Tamil Nadu  & South     \\\\\n",
       "\t Paravannam     & Raw rice,  jaggery, milk                                     & vegetarian     & NA & NA & spicy & main course & Kerala      & South     \\\\\n",
       "\\end{tabular}\n"
      ],
      "text/markdown": [
       "\n",
       "A data.table: 6 × 9\n",
       "\n",
       "| name &lt;fct&gt; | ingredients &lt;fct&gt; | diet &lt;fct&gt; | prep_time &lt;int&gt; | cook_time &lt;int&gt; | flavor_profile &lt;fct&gt; | course &lt;fct&gt; | state &lt;fct&gt; | region &lt;fct&gt; |\n",
       "|---|---|---|---|---|---|---|---|---|\n",
       "| Sohan papdi    | Gram flour, ghee, sugar, milk, cardamom                      | vegetarian     | NA | 60 | sweet | dessert     | Maharashtra | West       |\n",
       "| Chhena kheeri  | Chhena, sugar, milk                                          | vegetarian     | NA | 60 | sweet | dessert     | Odisha      | East       |\n",
       "| Pork Bharta    | Boiled pork, onions, chillies, ginger and garlic             | non vegetarian | NA | NA | spicy | main course | Tripura     | North East |\n",
       "| Kaara kozhambu | Sesame oil, drumstick, tamarind paste, sambar powder, tomato | vegetarian     | NA | NA | spicy | main course | Tamil Nadu  | South      |\n",
       "| Keerai masiyal | Urad dal, curry leaves, sugar, mustard seeds, spinach        | vegetarian     | NA | NA | spicy | main course | Tamil Nadu  | South      |\n",
       "| Paravannam     | Raw rice,  jaggery, milk                                     | vegetarian     | NA | NA | spicy | main course | Kerala      | South      |\n",
       "\n"
      ],
      "text/plain": [
       "  name           ingredients                                                 \n",
       "1 Sohan papdi    Gram flour, ghee, sugar, milk, cardamom                     \n",
       "2 Chhena kheeri  Chhena, sugar, milk                                         \n",
       "3 Pork Bharta    Boiled pork, onions, chillies, ginger and garlic            \n",
       "4 Kaara kozhambu Sesame oil, drumstick, tamarind paste, sambar powder, tomato\n",
       "5 Keerai masiyal Urad dal, curry leaves, sugar, mustard seeds, spinach       \n",
       "6 Paravannam     Raw rice,  jaggery, milk                                    \n",
       "  diet           prep_time cook_time flavor_profile course      state      \n",
       "1 vegetarian     NA        60        sweet          dessert     Maharashtra\n",
       "2 vegetarian     NA        60        sweet          dessert     Odisha     \n",
       "3 non vegetarian NA        NA        spicy          main course Tripura    \n",
       "4 vegetarian     NA        NA        spicy          main course Tamil Nadu \n",
       "5 vegetarian     NA        NA        spicy          main course Tamil Nadu \n",
       "6 vegetarian     NA        NA        spicy          main course Kerala     \n",
       "  region    \n",
       "1 West      \n",
       "2 East      \n",
       "3 North East\n",
       "4 South     \n",
       "5 South     \n",
       "6 South     "
      ]
     },
     "metadata": {},
     "output_type": "display_data"
    }
   ],
   "source": [
    "head(food_data[is.na(prep_time)])"
   ]
  },
  {
   "cell_type": "markdown",
   "metadata": {},
   "source": [
    "Achieves comparable outcomes to manual processes, but with increased efficiency."
   ]
  },
  {
   "cell_type": "code",
   "execution_count": 47,
   "metadata": {
    "vscode": {
     "languageId": "r"
    }
   },
   "outputs": [],
   "source": [
    "library(simputation)\n",
    "food_data<- impute_median(food_data, prep_time ~ flavor_profile+course)\n",
    "food_data$prep_time <- as.numeric(food_data$prep_time)"
   ]
  },
  {
   "cell_type": "markdown",
   "metadata": {},
   "source": [
    "Next, we employ the same imputation methodology for cooking time as we did for preparation time."
   ]
  },
  {
   "cell_type": "code",
   "execution_count": 48,
   "metadata": {
    "vscode": {
     "languageId": "r"
    }
   },
   "outputs": [],
   "source": [
    "food_data<- impute_median(food_data, cook_time ~ flavor_profile+course)\n",
    "food_data$cook_time <- as.numeric(food_data$cook_time)"
   ]
  },
  {
   "cell_type": "markdown",
   "metadata": {},
   "source": [
    "### 5.2 Imputing Flavor Profile Column\n",
    "\n",
    "Conducting a thorough exploration of the data to facilitate imputation for missing values in this column. The objective is to identify the most commonly occurring ingredients associated with each flavor profile and inferring the flavor type for the respective dishes"
   ]
  },
  {
   "cell_type": "code",
   "execution_count": 49,
   "metadata": {
    "vscode": {
     "languageId": "r"
    }
   },
   "outputs": [],
   "source": [
    "food_data$flavor_profile<-as.character(food_data$flavor_profile)\n",
    "\n",
    "spicy_ingre <- food_data[flavor_profile==\"spicy\"]\n",
    "spicy_ingre <- get_top_ingredient_list(spicy_ingre$ingredients)\n",
    "\n",
    "sweet_ingre <- food_data[flavor_profile == \"sweet\"]\n",
    "sweet_ingre <- get_top_ingredient_list(sweet_ingre$ingredients)\n",
    "\n",
    "bitter_ingre <- food_data[flavor_profile==\"bitter\"]\n",
    "bitter_ingre <- get_top_ingredient_list(bitter_ingre$ingredients)\n",
    "\n",
    "sour_ingre <- food_data[flavor_profile==\"sour\"]\n",
    "sour_ingre <- get_top_ingredient_list(sour_ingre$ingredients)"
   ]
  },
  {
   "cell_type": "code",
   "execution_count": 50,
   "metadata": {
    "vscode": {
     "languageId": "r"
    }
   },
   "outputs": [
    {
     "data": {
      "text/html": [
       "<table class=\"dataframe\">\n",
       "<caption>A data.frame: 6 × 2</caption>\n",
       "<thead>\n",
       "\t<tr><th></th><th scope=col>list_ingre</th><th scope=col>Freq</th></tr>\n",
       "\t<tr><th></th><th scope=col>&lt;fct&gt;</th><th scope=col>&lt;int&gt;</th></tr>\n",
       "</thead>\n",
       "<tbody>\n",
       "\t<tr><th scope=row>1</th><td> curry leaves </td><td>8</td></tr>\n",
       "\t<tr><th scope=row>2</th><td> olive oil    </td><td>4</td></tr>\n",
       "\t<tr><th scope=row>3</th><td> curd         </td><td>3</td></tr>\n",
       "\t<tr><th scope=row>4</th><td> mustard oil  </td><td>3</td></tr>\n",
       "\t<tr><th scope=row>5</th><td> mustard seeds</td><td>3</td></tr>\n",
       "\t<tr><th scope=row>6</th><td> tamarind     </td><td>3</td></tr>\n",
       "</tbody>\n",
       "</table>\n"
      ],
      "text/latex": [
       "A data.frame: 6 × 2\n",
       "\\begin{tabular}{r|ll}\n",
       "  & list\\_ingre & Freq\\\\\n",
       "  & <fct> & <int>\\\\\n",
       "\\hline\n",
       "\t1 &  curry leaves  & 8\\\\\n",
       "\t2 &  olive oil     & 4\\\\\n",
       "\t3 &  curd          & 3\\\\\n",
       "\t4 &  mustard oil   & 3\\\\\n",
       "\t5 &  mustard seeds & 3\\\\\n",
       "\t6 &  tamarind      & 3\\\\\n",
       "\\end{tabular}\n"
      ],
      "text/markdown": [
       "\n",
       "A data.frame: 6 × 2\n",
       "\n",
       "| <!--/--> | list_ingre &lt;fct&gt; | Freq &lt;int&gt; |\n",
       "|---|---|---|\n",
       "| 1 |  curry leaves  | 8 |\n",
       "| 2 |  olive oil     | 4 |\n",
       "| 3 |  curd          | 3 |\n",
       "| 4 |  mustard oil   | 3 |\n",
       "| 5 |  mustard seeds | 3 |\n",
       "| 6 |  tamarind      | 3 |\n",
       "\n"
      ],
      "text/plain": [
       "  list_ingre     Freq\n",
       "1  curry leaves  8   \n",
       "2  olive oil     4   \n",
       "3  curd          3   \n",
       "4  mustard oil   3   \n",
       "5  mustard seeds 3   \n",
       "6  tamarind      3   "
      ]
     },
     "metadata": {},
     "output_type": "display_data"
    }
   ],
   "source": [
    "na_flavor <- food_data[is.na(flavor_profile)]\n",
    "na_flavor_ingre <- get_top_ingredient_list(na_flavor$ingredients)\n",
    "head(na_flavor_ingre) "
   ]
  },
  {
   "cell_type": "code",
   "execution_count": 51,
   "metadata": {
    "vscode": {
     "languageId": "r"
    }
   },
   "outputs": [
    {
     "data": {
      "image/png": "[encoded data removed]",
      "text/plain": [
       "Plot with title \"spicy\""
      ]
     },
     "metadata": {
      "image/png": {
       "height": 300,
       "width": 540
      }
     },
     "output_type": "display_data"
    },
    {
     "data": {
      "image/png": "[encoded data removed]",
      "text/plain": [
       "Plot with title \"bitter\""
      ]
     },
     "metadata": {
      "image/png": {
       "height": 300,
       "width": 540
      }
     },
     "output_type": "display_data"
    }
   ],
   "source": [
    "par(mfrow=c(1,2))\n",
    "\n",
    "barplot(height=sweet_ingre$Freq[1:8],name= sweet_ingre$list_ingre[1:8],horiz=T, las=1, cex.names=.6, main=\"sweet\")\n",
    "barplot(height=spicy_ingre$Freq[1:8],name= spicy_ingre$list_ingre[1:8],horiz=T, las=1, cex.names=.6, main=\"spicy\")\n",
    "barplot(height=sour_ingre$Freq[1:8],name= sour_ingre$list_ingre[1:8],horiz=T, las=1, cex.names=.6, main=\"sour\")\n",
    "barplot(height=bitter_ingre$Freq[1:8],name= bitter_ingre$list_ingre[1:8],horiz=T, las=1, cex.names=.6, main=\"bitter\")\n",
    "\n",
    "# The last argument allows the change of the orientation of the axis labels:\n",
    "# 0: always parallel to the axis\n",
    "# 1: always horizontal\n",
    "# 2: always perpendicular to the axis\n",
    "# 3: always vertical."
   ]
  },
  {
   "cell_type": "code",
   "execution_count": 52,
   "metadata": {
    "vscode": {
     "languageId": "r"
    }
   },
   "outputs": [
    {
     "data": {
      "text/html": [
       "<table class=\"dataframe\">\n",
       "<caption>A data.table: 6 × 9</caption>\n",
       "<thead>\n",
       "\t<tr><th scope=col>name</th><th scope=col>ingredients</th><th scope=col>diet</th><th scope=col>prep_time</th><th scope=col>cook_time</th><th scope=col>flavor_profile</th><th scope=col>course</th><th scope=col>state</th><th scope=col>region</th></tr>\n",
       "\t<tr><th scope=col>&lt;fct&gt;</th><th scope=col>&lt;fct&gt;</th><th scope=col>&lt;fct&gt;</th><th scope=col>&lt;dbl&gt;</th><th scope=col>&lt;dbl&gt;</th><th scope=col>&lt;chr&gt;</th><th scope=col>&lt;fct&gt;</th><th scope=col>&lt;fct&gt;</th><th scope=col>&lt;fct&gt;</th></tr>\n",
       "</thead>\n",
       "<tbody>\n",
       "\t<tr><td>Chapati  </td><td>Whole wheat flour, olive oil, hot water, all purpose flour      </td><td>vegetarian</td><td>10</td><td>10</td><td>NA</td><td>main course</td><td>Maharashtra</td><td>West </td></tr>\n",
       "\t<tr><td>Naan     </td><td>Whole wheat flour, honey, butter, garlic                        </td><td>vegetarian</td><td>60</td><td>30</td><td>NA</td><td>main course</td><td>Punjab     </td><td>North</td></tr>\n",
       "\t<tr><td>Rongi    </td><td>Garam masala powder, tomato, kasuri methi, cinnamon, mustard oil</td><td>vegetarian</td><td>10</td><td>30</td><td>NA</td><td>main course</td><td>Punjab     </td><td>North</td></tr>\n",
       "\t<tr><td>Kanji    </td><td>Carrot, yellow mustard, red chilli, black salt                  </td><td>vegetarian</td><td>10</td><td>45</td><td>NA</td><td>snack      </td><td>Kerala     </td><td>South</td></tr>\n",
       "\t<tr><td>Pachadi  </td><td>Coconut oil, cucumber, curd, curry leaves, mustard seeds        </td><td>vegetarian</td><td>10</td><td>25</td><td>NA</td><td>main course</td><td>NA         </td><td>South</td></tr>\n",
       "\t<tr><td>Paniyaram</td><td>Yogurt, ginger, curry leaves, baking soda, green chilli         </td><td>vegetarian</td><td>10</td><td>20</td><td>NA</td><td>main course</td><td>Tamil Nadu </td><td>South</td></tr>\n",
       "</tbody>\n",
       "</table>\n"
      ],
      "text/latex": [
       "A data.table: 6 × 9\n",
       "\\begin{tabular}{lllllllll}\n",
       " name & ingredients & diet & prep\\_time & cook\\_time & flavor\\_profile & course & state & region\\\\\n",
       " <fct> & <fct> & <fct> & <dbl> & <dbl> & <chr> & <fct> & <fct> & <fct>\\\\\n",
       "\\hline\n",
       "\t Chapati   & Whole wheat flour, olive oil, hot water, all purpose flour       & vegetarian & 10 & 10 & NA & main course & Maharashtra & West \\\\\n",
       "\t Naan      & Whole wheat flour, honey, butter, garlic                         & vegetarian & 60 & 30 & NA & main course & Punjab      & North\\\\\n",
       "\t Rongi     & Garam masala powder, tomato, kasuri methi, cinnamon, mustard oil & vegetarian & 10 & 30 & NA & main course & Punjab      & North\\\\\n",
       "\t Kanji     & Carrot, yellow mustard, red chilli, black salt                   & vegetarian & 10 & 45 & NA & snack       & Kerala      & South\\\\\n",
       "\t Pachadi   & Coconut oil, cucumber, curd, curry leaves, mustard seeds         & vegetarian & 10 & 25 & NA & main course & NA          & South\\\\\n",
       "\t Paniyaram & Yogurt, ginger, curry leaves, baking soda, green chilli          & vegetarian & 10 & 20 & NA & main course & Tamil Nadu  & South\\\\\n",
       "\\end{tabular}\n"
      ],
      "text/markdown": [
       "\n",
       "A data.table: 6 × 9\n",
       "\n",
       "| name &lt;fct&gt; | ingredients &lt;fct&gt; | diet &lt;fct&gt; | prep_time &lt;dbl&gt; | cook_time &lt;dbl&gt; | flavor_profile &lt;chr&gt; | course &lt;fct&gt; | state &lt;fct&gt; | region &lt;fct&gt; |\n",
       "|---|---|---|---|---|---|---|---|---|\n",
       "| Chapati   | Whole wheat flour, olive oil, hot water, all purpose flour       | vegetarian | 10 | 10 | NA | main course | Maharashtra | West  |\n",
       "| Naan      | Whole wheat flour, honey, butter, garlic                         | vegetarian | 60 | 30 | NA | main course | Punjab      | North |\n",
       "| Rongi     | Garam masala powder, tomato, kasuri methi, cinnamon, mustard oil | vegetarian | 10 | 30 | NA | main course | Punjab      | North |\n",
       "| Kanji     | Carrot, yellow mustard, red chilli, black salt                   | vegetarian | 10 | 45 | NA | snack       | Kerala      | South |\n",
       "| Pachadi   | Coconut oil, cucumber, curd, curry leaves, mustard seeds         | vegetarian | 10 | 25 | NA | main course | NA          | South |\n",
       "| Paniyaram | Yogurt, ginger, curry leaves, baking soda, green chilli          | vegetarian | 10 | 20 | NA | main course | Tamil Nadu  | South |\n",
       "\n"
      ],
      "text/plain": [
       "  name      ingredients                                                     \n",
       "1 Chapati   Whole wheat flour, olive oil, hot water, all purpose flour      \n",
       "2 Naan      Whole wheat flour, honey, butter, garlic                        \n",
       "3 Rongi     Garam masala powder, tomato, kasuri methi, cinnamon, mustard oil\n",
       "4 Kanji     Carrot, yellow mustard, red chilli, black salt                  \n",
       "5 Pachadi   Coconut oil, cucumber, curd, curry leaves, mustard seeds        \n",
       "6 Paniyaram Yogurt, ginger, curry leaves, baking soda, green chilli         \n",
       "  diet       prep_time cook_time flavor_profile course      state       region\n",
       "1 vegetarian 10        10        NA             main course Maharashtra West  \n",
       "2 vegetarian 60        30        NA             main course Punjab      North \n",
       "3 vegetarian 10        30        NA             main course Punjab      North \n",
       "4 vegetarian 10        45        NA             snack       Kerala      South \n",
       "5 vegetarian 10        25        NA             main course NA          South \n",
       "6 vegetarian 10        20        NA             main course Tamil Nadu  South "
      ]
     },
     "metadata": {},
     "output_type": "display_data"
    }
   ],
   "source": [
    "head(food_data[is.na(flavor_profile)])"
   ]
  },
  {
   "cell_type": "markdown",
   "metadata": {},
   "source": [
    "Observing that the majority of dishes are categorized as having either spicy or sweet flavors. As previously analyzed, many dishes with missing flavor information contain curry leaves as an ingredient, leading us to impute their flavors as spicy."
   ]
  },
  {
   "cell_type": "code",
   "execution_count": 53,
   "metadata": {
    "vscode": {
     "languageId": "r"
    }
   },
   "outputs": [],
   "source": [
    "is_flavor<- function(x, string){\n",
    "    lists<-get_top_ingredient_list(x)\n",
    "    lists<-as.character(lists$list_ingre)\n",
    "    lists<- lists[!is.na(lists)]\n",
    "    if(any(lists %in% string)){\n",
    "        return(TRUE)\n",
    "    }else {\n",
    "        return(FALSE)\n",
    "    }\n",
    "    \n",
    "}\n",
    "\n",
    "#sweet flavor\n",
    "food_data$is_sweet<-sapply(food_data$ingredients, is_flavor, sweet_ingre$list_ingre)\n",
    "food_data[is.na(flavor_profile) & is_sweet ==T]$flavor_profile <- \"sweet\"\n",
    "\n",
    "#spicy flavor\n",
    "food_data$is_spicy<-sapply(food_data$ingredients, is_flavor, spicy_ingre$list_ingre)\n",
    "food_data[is.na(flavor_profile) & is_spicy ==T]$flavor_profile <- \"spicy\""
   ]
  },
  {
   "cell_type": "code",
   "execution_count": 54,
   "metadata": {
    "vscode": {
     "languageId": "r"
    }
   },
   "outputs": [
    {
     "data": {
      "text/html": [
       "<style>\n",
       ".dl-inline {width: auto; margin:0; padding: 0}\n",
       ".dl-inline>dt, .dl-inline>dd {float: none; width: auto; display: inline-block}\n",
       ".dl-inline>dt::after {content: \":\\0020\"; padding-right: .5ex}\n",
       ".dl-inline>dt:not(:first-of-type) {padding-left: .5ex}\n",
       "</style><dl class=dl-inline><dt>name</dt><dd>0</dd><dt>ingredients</dt><dd>0</dd><dt>diet</dt><dd>0</dd><dt>prep_time</dt><dd>5</dd><dt>cook_time</dt><dd>5</dd><dt>flavor_profile</dt><dd>0</dd><dt>course</dt><dd>0</dd><dt>state</dt><dd>24</dd><dt>region</dt><dd>13</dd><dt>is_sweet</dt><dd>0</dd><dt>is_spicy</dt><dd>0</dd></dl>\n"
      ],
      "text/latex": [
       "\\begin{description*}\n",
       "\\item[name] 0\n",
       "\\item[ingredients] 0\n",
       "\\item[diet] 0\n",
       "\\item[prep\\textbackslash{}\\_time] 5\n",
       "\\item[cook\\textbackslash{}\\_time] 5\n",
       "\\item[flavor\\textbackslash{}\\_profile] 0\n",
       "\\item[course] 0\n",
       "\\item[state] 24\n",
       "\\item[region] 13\n",
       "\\item[is\\textbackslash{}\\_sweet] 0\n",
       "\\item[is\\textbackslash{}\\_spicy] 0\n",
       "\\end{description*}\n"
      ],
      "text/markdown": [
       "name\n",
       ":   0ingredients\n",
       ":   0diet\n",
       ":   0prep_time\n",
       ":   5cook_time\n",
       ":   5flavor_profile\n",
       ":   0course\n",
       ":   0state\n",
       ":   24region\n",
       ":   13is_sweet\n",
       ":   0is_spicy\n",
       ":   0\n",
       "\n"
      ],
      "text/plain": [
       "          name    ingredients           diet      prep_time      cook_time \n",
       "             0              0              0              5              5 \n",
       "flavor_profile         course          state         region       is_sweet \n",
       "             0              0             24             13              0 \n",
       "      is_spicy \n",
       "             0 "
      ]
     },
     "metadata": {},
     "output_type": "display_data"
    }
   ],
   "source": [
    "food_data[is.na(flavor_profile)][c(1,3,8),]$flavor_profile <- \"spicy\"\n",
    "food_data[is.na(flavor_profile)]$flavor_profile <- \"sweet\"\n",
    "colSums(is.na(food_data))"
   ]
  },
  {
   "cell_type": "markdown",
   "metadata": {},
   "source": [
    "### 5.3 Imputing State and Region\n",
    "\n",
    "Transitioning from food-related variables to geographical ones, upon examining the data, we notice that certain dishes, like rice, have missing values in their region/state attribute. These dishes may not be exclusively associated with any particular region/state but instead span across multiple states/regions. Hence, it seems logical to assign values indicating this broader categorization for the purpose of analysis."
   ]
  },
  {
   "cell_type": "code",
   "execution_count": 55,
   "metadata": {
    "vscode": {
     "languageId": "r"
    }
   },
   "outputs": [
    {
     "data": {
      "text/html": [
       "<style>\n",
       ".list-inline {list-style: none; margin:0; padding: 0}\n",
       ".list-inline>li {display: inline-block}\n",
       ".list-inline>li:not(:last-child)::after {content: \"\\00b7\"; padding: 0 .5ex}\n",
       "</style>\n",
       "<ol class=list-inline><li>'Andhra Pradesh'</li><li>'Assam'</li><li>'Bihar'</li><li>'Chhattisgarh'</li><li>'Goa'</li><li>'Gujarat'</li><li>'Haryana'</li><li>'Jammu &amp; Kashmir'</li><li>'Karnataka'</li><li>'Kerala'</li><li>'Madhya Pradesh'</li><li>'Maharashtra'</li><li>'Manipur'</li><li>'NCT of Delhi'</li><li>'Nagaland'</li><li>'Odisha'</li><li>'Punjab'</li><li>'Rajasthan'</li><li>'Tamil Nadu'</li><li>'Telangana'</li><li>'Tripura'</li><li>'Uttar Pradesh'</li><li>'Uttarakhand'</li><li>'West Bengal'</li><li>'multiple states'</li></ol>\n"
      ],
      "text/latex": [
       "\\begin{enumerate*}\n",
       "\\item 'Andhra Pradesh'\n",
       "\\item 'Assam'\n",
       "\\item 'Bihar'\n",
       "\\item 'Chhattisgarh'\n",
       "\\item 'Goa'\n",
       "\\item 'Gujarat'\n",
       "\\item 'Haryana'\n",
       "\\item 'Jammu \\& Kashmir'\n",
       "\\item 'Karnataka'\n",
       "\\item 'Kerala'\n",
       "\\item 'Madhya Pradesh'\n",
       "\\item 'Maharashtra'\n",
       "\\item 'Manipur'\n",
       "\\item 'NCT of Delhi'\n",
       "\\item 'Nagaland'\n",
       "\\item 'Odisha'\n",
       "\\item 'Punjab'\n",
       "\\item 'Rajasthan'\n",
       "\\item 'Tamil Nadu'\n",
       "\\item 'Telangana'\n",
       "\\item 'Tripura'\n",
       "\\item 'Uttar Pradesh'\n",
       "\\item 'Uttarakhand'\n",
       "\\item 'West Bengal'\n",
       "\\item 'multiple states'\n",
       "\\end{enumerate*}\n"
      ],
      "text/markdown": [
       "1. 'Andhra Pradesh'\n",
       "2. 'Assam'\n",
       "3. 'Bihar'\n",
       "4. 'Chhattisgarh'\n",
       "5. 'Goa'\n",
       "6. 'Gujarat'\n",
       "7. 'Haryana'\n",
       "8. 'Jammu &amp; Kashmir'\n",
       "9. 'Karnataka'\n",
       "10. 'Kerala'\n",
       "11. 'Madhya Pradesh'\n",
       "12. 'Maharashtra'\n",
       "13. 'Manipur'\n",
       "14. 'NCT of Delhi'\n",
       "15. 'Nagaland'\n",
       "16. 'Odisha'\n",
       "17. 'Punjab'\n",
       "18. 'Rajasthan'\n",
       "19. 'Tamil Nadu'\n",
       "20. 'Telangana'\n",
       "21. 'Tripura'\n",
       "22. 'Uttar Pradesh'\n",
       "23. 'Uttarakhand'\n",
       "24. 'West Bengal'\n",
       "25. 'multiple states'\n",
       "\n",
       "\n"
      ],
      "text/plain": [
       " [1] \"Andhra Pradesh\"  \"Assam\"           \"Bihar\"           \"Chhattisgarh\"   \n",
       " [5] \"Goa\"             \"Gujarat\"         \"Haryana\"         \"Jammu & Kashmir\"\n",
       " [9] \"Karnataka\"       \"Kerala\"          \"Madhya Pradesh\"  \"Maharashtra\"    \n",
       "[13] \"Manipur\"         \"NCT of Delhi\"    \"Nagaland\"        \"Odisha\"         \n",
       "[17] \"Punjab\"          \"Rajasthan\"       \"Tamil Nadu\"      \"Telangana\"      \n",
       "[21] \"Tripura\"         \"Uttar Pradesh\"   \"Uttarakhand\"     \"West Bengal\"    \n",
       "[25] \"multiple states\""
      ]
     },
     "metadata": {},
     "output_type": "display_data"
    }
   ],
   "source": [
    "food_data$state <- factor(food_data$state, levels = c(levels(food_data$state), \"multiple states\"))\n",
    "levels(food_data$state)"
   ]
  },
  {
   "cell_type": "code",
   "execution_count": 56,
   "metadata": {
    "vscode": {
     "languageId": "r"
    }
   },
   "outputs": [],
   "source": [
    "food_data[is.na(state)]$state <- \"multiple states\""
   ]
  },
  {
   "cell_type": "code",
   "execution_count": 57,
   "metadata": {
    "vscode": {
     "languageId": "r"
    }
   },
   "outputs": [
    {
     "data": {
      "text/html": [
       "<style>\n",
       ".list-inline {list-style: none; margin:0; padding: 0}\n",
       ".list-inline>li {display: inline-block}\n",
       ".list-inline>li:not(:last-child)::after {content: \"\\00b7\"; padding: 0 .5ex}\n",
       "</style>\n",
       "<ol class=list-inline><li>''</li><li>'Central'</li><li>'East'</li><li>'North'</li><li>'North East'</li><li>'South'</li><li>'West'</li><li>'multiple regions'</li></ol>\n"
      ],
      "text/latex": [
       "\\begin{enumerate*}\n",
       "\\item ''\n",
       "\\item 'Central'\n",
       "\\item 'East'\n",
       "\\item 'North'\n",
       "\\item 'North East'\n",
       "\\item 'South'\n",
       "\\item 'West'\n",
       "\\item 'multiple regions'\n",
       "\\end{enumerate*}\n"
      ],
      "text/markdown": [
       "1. ''\n",
       "2. 'Central'\n",
       "3. 'East'\n",
       "4. 'North'\n",
       "5. 'North East'\n",
       "6. 'South'\n",
       "7. 'West'\n",
       "8. 'multiple regions'\n",
       "\n",
       "\n"
      ],
      "text/plain": [
       "[1] \"\"                 \"Central\"          \"East\"             \"North\"           \n",
       "[5] \"North East\"       \"South\"            \"West\"             \"multiple regions\""
      ]
     },
     "metadata": {},
     "output_type": "display_data"
    }
   ],
   "source": [
    "food_data$region <- factor(food_data$region, levels = c(levels(food_data$region), \"multiple regions\"))\n",
    "levels(food_data$region)"
   ]
  },
  {
   "cell_type": "markdown",
   "metadata": {},
   "source": [
    "## 6. Additional Data Exploration"
   ]
  },
  {
   "cell_type": "code",
   "execution_count": 58,
   "metadata": {
    "vscode": {
     "languageId": "r"
    }
   },
   "outputs": [
    {
     "data": {
      "image/png": "[encoded data removed]",
      "text/plain": [
       "plot without title"
      ]
     },
     "metadata": {
      "image/png": {
       "height": 300,
       "width": 540
      }
     },
     "output_type": "display_data"
    }
   ],
   "source": [
    "library(repr)\n",
    "options(repr.plot.width=9, repr.plot.height=5)\n",
    "par(mfrow=c(1, 2))\n",
    "barplot(table(food_data[state==\"multiple states\"]$course), width=5, col=\"#69b3a2\", las=1, cex.names=.6)\n",
    "pie(table(food_data[state==\"multiple states\"]$course), radius=2)"
   ]
  },
  {
   "cell_type": "code",
   "execution_count": 59,
   "metadata": {
    "vscode": {
     "languageId": "r"
    }
   },
   "outputs": [
    {
     "data": {
      "image/png": "[encoded data removed]",
      "text/plain": [
       "plot without title"
      ]
     },
     "metadata": {
      "image/png": {
       "height": 300,
       "width": 540
      }
     },
     "output_type": "display_data"
    }
   ],
   "source": [
    "food_data %>%\n",
    "ggplot(aes(x=region))+\n",
    "    geom_bar(aes(fill=flavor_profile))+\n",
    "    theme(axis.text.x = element_text(angle=45, hjust=1, vjust=1))+theme_classic()"
   ]
  },
  {
   "cell_type": "markdown",
   "metadata": {},
   "source": [
    "At the regional level, spicy flavors significantly outnumber sweet ones. Notably, the North, West, and South regions contribute the highest number of dishes to Indian cuisine."
   ]
  },
  {
   "cell_type": "markdown",
   "metadata": {},
   "source": [
    "## 7. Conclusion"
   ]
  },
  {
   "cell_type": "markdown",
   "metadata": {},
   "source": [
    "Spicy flavors dominate the Indian culinary landscape, with a significant majority of dishes falling under this category. However, certain states, such as West Bengal and Andhra Pradesh, exhibit a higher prevalence of sweet dishes. The North, West, and South regions contribute the most dishes to Indian cuisine. States like Gujarat and Punjab stand out for their diverse cuisine offerings, encompassing a wide range of flavor profiles.\n",
    "\n",
    "Ingredients play a crucial role in defining flavor profiles, with certain ingredients associated with specific flavor types. For example, curry leaves are often indicative of spicy dishes. While certain dishes are prevalent across multiple states, indicating popular favorites, each state also boasts its unique culinary traditions and specialties. Gujarat, with its diverse range of flavor profiles, exemplifies this culinary richness.\n",
    "\n",
    "In conclusion, Indian cuisine is characterized by its extensive range of flavors and ingredients. From savory dishes to desserts, Indian culinary offerings provide a diverse array of options for exploration."
   ]
  }
 ],
 "metadata": {
  "kernelspec": {
   "display_name": "R",
   "language": "R",
   "name": "ir"
  },
  "language_info": {
   "codemirror_mode": "r",
   "file_extension": ".r",
   "mimetype": "text/x-r-source",
   "name": "R",
   "pygments_lexer": "r",
   "version": "4.3.3"
  }
 },
 "nbformat": 4,
 "nbformat_minor": 4
}
